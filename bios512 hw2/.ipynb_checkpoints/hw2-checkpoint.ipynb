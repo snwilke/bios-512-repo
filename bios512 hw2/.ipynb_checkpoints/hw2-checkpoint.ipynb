{
 "cells": [
  {
   "cell_type": "code",
   "execution_count": 2,
   "id": "55adf833-0c17-4d72-b0c6-fca3245153b6",
   "metadata": {},
   "outputs": [
    {
     "data": {
      "text/html": [
       "25"
      ],
      "text/latex": [
       "25"
      ],
      "text/markdown": [
       "25"
      ],
      "text/plain": [
       "[1] 25"
      ]
     },
     "metadata": {},
     "output_type": "display_data"
    }
   ],
   "source": [
    "library(tidyverse);\n",
    "y <- 25\n",
    "y\n"
   ]
  },
  {
   "cell_type": "code",
   "execution_count": 3,
   "id": "6875f427-6b65-4892-9b36-e3984201201f",
   "metadata": {},
   "outputs": [
    {
     "data": {
      "text/html": [
       "25"
      ],
      "text/latex": [
       "25"
      ],
      "text/markdown": [
       "25"
      ],
      "text/plain": [
       "[1] 25"
      ]
     },
     "metadata": {},
     "output_type": "display_data"
    }
   ],
   "source": [
    "y = 25\n",
    "y"
   ]
  },
  {
   "cell_type": "code",
   "execution_count": 4,
   "id": "b25e3204-9c3c-4637-8a25-b9078fc47338",
   "metadata": {},
   "outputs": [
    {
     "data": {
      "text/html": [
       "25"
      ],
      "text/latex": [
       "25"
      ],
      "text/markdown": [
       "25"
      ],
      "text/plain": [
       "[1] 25"
      ]
     },
     "metadata": {},
     "output_type": "display_data"
    }
   ],
   "source": [
    "y <<-25\n",
    "y"
   ]
  },
  {
   "cell_type": "code",
   "execution_count": 5,
   "id": "475d983f-1a08-44e6-9e26-7c089dd41e6a",
   "metadata": {},
   "outputs": [
    {
     "ename": "ERROR",
     "evalue": "Error in parse(text = input): <text>:1:7: unexpected INCOMPLETE_STRING\n1: print(\"He said, /“I’m Garth Marenghi. Author. Dreamweaver. Visionary. Plus actor./”)\n          ^\n",
     "output_type": "error",
     "traceback": [
      "Error in parse(text = input): <text>:1:7: unexpected INCOMPLETE_STRING\n1: print(\"He said, /“I’m Garth Marenghi. Author. Dreamweaver. Visionary. Plus actor./”)\n          ^\nTraceback:\n"
     ]
    }
   ],
   "source": [
    "print(\"He said, /“I’m Garth Marenghi. Author. Dreamweaver. Visionary. Plus actor./”)"
   ]
  },
  {
   "cell_type": "code",
   "execution_count": 6,
   "id": "1f97ff0e-9d33-40c4-b233-ad0774895b5c",
   "metadata": {},
   "outputs": [
    {
     "name": "stdout",
     "output_type": "stream",
     "text": [
      "[1] \"He said, “I’m Garth Marenghi. Author. Dreamweaver. Visionary. Plus actor.”\"\n"
     ]
    }
   ],
   "source": [
    "print(\"He said, “I’m Garth Marenghi. Author. Dreamweaver. Visionary. Plus actor.”\")\n"
   ]
  },
  {
   "cell_type": "code",
   "execution_count": 11,
   "id": "838afe63-a41a-4695-91ae-b0fc45fb4b89",
   "metadata": {},
   "outputs": [
    {
     "name": "stdout",
     "output_type": "stream",
     "text": [
      "He said, “I’m Garth Marenghi. Author\\Dreamweaver\\Visionary. Plus actor.”"
     ]
    }
   ],
   "source": [
    "cat(\"He said, “I’m Garth Marenghi. Author\\\\Dreamweaver\\\\Visionary. Plus actor.”\")"
   ]
  },
  {
   "cell_type": "code",
   "execution_count": 12,
   "id": "e910e2c9-0ccf-4351-8e1b-7423b6bd6a09",
   "metadata": {},
   "outputs": [
    {
     "ename": "ERROR",
     "evalue": "Error in parse(text = input): <text>:1:11: unexpected symbol\n1: arr() = 1 .\n              ^\n",
     "output_type": "error",
     "traceback": [
      "Error in parse(text = input): <text>:1:11: unexpected symbol\n1: arr() = 1 .\n              ^\nTraceback:\n"
     ]
    }
   ],
   "source": [
    "arr() = 1 . 2 . 3\n",
    "arr()"
   ]
  },
  {
   "cell_type": "code",
   "execution_count": 17,
   "id": "5e7d5926-63a2-4bbd-adea-1afae02b20be",
   "metadata": {},
   "outputs": [
    {
     "name": "stderr",
     "output_type": "stream",
     "text": [
      "Warning message in 1:2:3:\n",
      "\"numerical expression has 2 elements: only the first used\"\n"
     ]
    },
    {
     "data": {
      "text/html": [
       "<style>\n",
       ".list-inline {list-style: none; margin:0; padding: 0}\n",
       ".list-inline>li {display: inline-block}\n",
       ".list-inline>li:not(:last-child)::after {content: \"\\00b7\"; padding: 0 .5ex}\n",
       "</style>\n",
       "<ol class=list-inline><li>1</li><li>2</li><li>3</li></ol>\n"
      ],
      "text/latex": [
       "\\begin{enumerate*}\n",
       "\\item 1\n",
       "\\item 2\n",
       "\\item 3\n",
       "\\end{enumerate*}\n"
      ],
      "text/markdown": [
       "1. 1\n",
       "2. 2\n",
       "3. 3\n",
       "\n",
       "\n"
      ],
      "text/plain": [
       "[1] 1 2 3"
      ]
     },
     "metadata": {},
     "output_type": "display_data"
    }
   ],
   "source": [
    "arr1 <- array(1:2:3)\n",
    "arr1"
   ]
  },
  {
   "cell_type": "code",
   "execution_count": null,
   "id": "3ce05d93-3b2b-43cf-907f-9a7e9f56cf38",
   "metadata": {},
   "outputs": [],
   "source": []
  },
  {
   "cell_type": "code",
   "execution_count": null,
   "id": "85f62cbf-d29e-45a8-98d6-068659599ee0",
   "metadata": {},
   "outputs": [],
   "source": []
  },
  {
   "cell_type": "code",
   "execution_count": 18,
   "id": "1050927e-a91d-438f-8cdc-f30521ad8dda",
   "metadata": {},
   "outputs": [
    {
     "name": "stderr",
     "output_type": "stream",
     "text": [
      "Warning message in 1:2:3:\n",
      "\"numerical expression has 2 elements: only the first used\"\n"
     ]
    },
    {
     "data": {
      "text/html": [
       "<style>\n",
       ".list-inline {list-style: none; margin:0; padding: 0}\n",
       ".list-inline>li {display: inline-block}\n",
       ".list-inline>li:not(:last-child)::after {content: \"\\00b7\"; padding: 0 .5ex}\n",
       "</style>\n",
       "<ol class=list-inline><li>1</li><li>2</li><li>3</li></ol>\n"
      ],
      "text/latex": [
       "\\begin{enumerate*}\n",
       "\\item 1\n",
       "\\item 2\n",
       "\\item 3\n",
       "\\end{enumerate*}\n"
      ],
      "text/markdown": [
       "1. 1\n",
       "2. 2\n",
       "3. 3\n",
       "\n",
       "\n"
      ],
      "text/plain": [
       "[1] 1 2 3"
      ]
     },
     "metadata": {},
     "output_type": "display_data"
    }
   ],
   "source": [
    "arr1 <- array(1:2:3)\n",
    "arr1"
   ]
  },
  {
   "cell_type": "code",
   "execution_count": 19,
   "id": "47a09c22-c159-444a-8fbc-da8704ccb040",
   "metadata": {},
   "outputs": [
    {
     "data": {
      "text/html": [
       "<style>\n",
       ".list-inline {list-style: none; margin:0; padding: 0}\n",
       ".list-inline>li {display: inline-block}\n",
       ".list-inline>li:not(:last-child)::after {content: \"\\00b7\"; padding: 0 .5ex}\n",
       "</style>\n",
       "<ol class=list-inline><li>1</li><li>2</li><li>3</li></ol>\n"
      ],
      "text/latex": [
       "\\begin{enumerate*}\n",
       "\\item 1\n",
       "\\item 2\n",
       "\\item 3\n",
       "\\end{enumerate*}\n"
      ],
      "text/markdown": [
       "1. 1\n",
       "2. 2\n",
       "3. 3\n",
       "\n",
       "\n"
      ],
      "text/plain": [
       "[1] 1 2 3"
      ]
     },
     "metadata": {},
     "output_type": "display_data"
    }
   ],
   "source": [
    "arr <- array(1:3)\n",
    "arr"
   ]
  },
  {
   "cell_type": "code",
   "execution_count": 20,
   "id": "9c2db4e1-de79-4a51-9b1b-f559b543d307",
   "metadata": {},
   "outputs": [
    {
     "ename": "ERROR",
     "evalue": "Error in arrary(1:3): could not find function \"arrary\"\n",
     "output_type": "error",
     "traceback": [
      "Error in arrary(1:3): could not find function \"arrary\"\nTraceback:\n"
     ]
    }
   ],
   "source": [
    "arr = arrary(1:3)\n",
    "arr"
   ]
  },
  {
   "cell_type": "code",
   "execution_count": 21,
   "id": "00a1ade2-ec5f-4ea3-a86f-6ee8f37082d1",
   "metadata": {},
   "outputs": [
    {
     "data": {
      "text/html": [
       "<style>\n",
       ".list-inline {list-style: none; margin:0; padding: 0}\n",
       ".list-inline>li {display: inline-block}\n",
       ".list-inline>li:not(:last-child)::after {content: \"\\00b7\"; padding: 0 .5ex}\n",
       "</style>\n",
       "<ol class=list-inline><li>1</li><li>2</li><li>3</li></ol>\n"
      ],
      "text/latex": [
       "\\begin{enumerate*}\n",
       "\\item 1\n",
       "\\item 2\n",
       "\\item 3\n",
       "\\end{enumerate*}\n"
      ],
      "text/markdown": [
       "1. 1\n",
       "2. 2\n",
       "3. 3\n",
       "\n",
       "\n"
      ],
      "text/plain": [
       "[1] 1 2 3"
      ]
     },
     "metadata": {},
     "output_type": "display_data"
    }
   ],
   "source": [
    "arr = array(1:3)\n",
    "arr"
   ]
  },
  {
   "cell_type": "code",
   "execution_count": 22,
   "id": "5754000b-d1ca-4fad-964c-4514fe9dfd63",
   "metadata": {},
   "outputs": [],
   "source": [
    "pythagorean_c2 <- function(a, b) {\n",
    "    return( (a*a) + (b*b) );}"
   ]
  },
  {
   "cell_type": "code",
   "execution_count": 23,
   "id": "90332b8e-05de-4e36-a5f8-7e58527cad03",
   "metadata": {},
   "outputs": [
    {
     "data": {
      "text/html": [
       "25"
      ],
      "text/latex": [
       "25"
      ],
      "text/markdown": [
       "25"
      ],
      "text/plain": [
       "[1] 25"
      ]
     },
     "metadata": {},
     "output_type": "display_data"
    }
   ],
   "source": [
    "pythagorean_c2 <- function(a, b) {\n",
    "    return( (a*a) + (b*b) );}\n",
    "pythagorean_c2(3,4)\n"
   ]
  },
  {
   "cell_type": "code",
   "execution_count": 24,
   "id": "b6a44538-2aea-454b-b77c-95b0a246c876",
   "metadata": {},
   "outputs": [
    {
     "data": {
      "text/html": [
       "\n",
       "<table style=\"width: 100%;\"><tr><td>Trig {base}</td><td style=\"text-align: right;\">R Documentation</td></tr></table>\n",
       "\n",
       "<h2>Trigonometric Functions</h2>\n",
       "\n",
       "<h3>Description</h3>\n",
       "\n",
       "<p>These functions give the obvious trigonometric functions.  They\n",
       "respectively compute the cosine, sine, tangent, arc-cosine, arc-sine,\n",
       "arc-tangent, and the two-argument arc-tangent.\n",
       "</p>\n",
       "<p><code>cospi(x)</code>, <code>sinpi(x)</code>, and <code>tanpi(x)</code>, compute\n",
       "<code>cos(pi*x)</code>, <code>sin(pi*x)</code>, and <code>tan(pi*x)</code>.\n",
       "</p>\n",
       "\n",
       "\n",
       "<h3>Usage</h3>\n",
       "\n",
       "<pre><code class='language-R'>cos(x)\n",
       "sin(x)\n",
       "tan(x)\n",
       "\n",
       "acos(x)\n",
       "asin(x)\n",
       "atan(x)\n",
       "atan2(y, x)\n",
       "\n",
       "cospi(x)\n",
       "sinpi(x)\n",
       "tanpi(x)\n",
       "</code></pre>\n",
       "\n",
       "\n",
       "<h3>Arguments</h3>\n",
       "\n",
       "<table role = \"presentation\">\n",
       "<tr><td><code id=\"x\">x</code>, <code id=\"y\">y</code></td>\n",
       "<td>\n",
       "<p>numeric or complex vectors.</p>\n",
       "</td></tr>\n",
       "</table>\n",
       "\n",
       "\n",
       "<h3>Details</h3>\n",
       "\n",
       "<p>The arc-tangent of two arguments <code>atan2(y, x)</code> returns the angle\n",
       "between the x-axis and the vector from the origin to <code class=\"reqn\">(x, y)</code>,\n",
       "i.e., for positive arguments <code>atan2(y, x) == atan(y/x)</code>.\n",
       "</p>\n",
       "<p>Angles are in radians, not degrees, for the standard versions (i.e., a\n",
       "right angle is <code class=\"reqn\">\\pi/2</code>), and in &lsquo;half-rotations&rsquo; for\n",
       "<code>cospi</code> etc.\n",
       "</p>\n",
       "<p><code>cospi(x)</code>, <code>sinpi(x)</code>, and <code>tanpi(x)</code> are accurate\n",
       "for <code>x</code> values which are multiples of a half.\n",
       "</p>\n",
       "<p>All except <code>atan2</code> are internal generic primitive\n",
       "functions: methods can be defined for them individually or via the\n",
       "<code>Math</code> group generic.\n",
       "</p>\n",
       "<p>These are all wrappers to system calls of the same name (with prefix\n",
       "<code>c</code> for complex arguments) where available.  (<code>cospi</code>,\n",
       "<code>sinpi</code>, and <code>tanpi</code> are part of a C11 extension\n",
       "and provided by e.g. macOS and Solaris: where not yet\n",
       "available call to <code>cos</code> <em>etc</em> are used, with special cases\n",
       "for  multiples of a half.)\n",
       "</p>\n",
       "\n",
       "\n",
       "<h3>Value</h3>\n",
       "\n",
       "<p><code>tanpi(0.5)</code> is <code>NaN</code>.  Similarly for other inputs\n",
       "with fractional part <code>0.5</code>.\n",
       "</p>\n",
       "\n",
       "\n",
       "<h3>Complex values</h3>\n",
       "\n",
       "<p>For the inverse trigonometric functions, branch cuts are defined as in\n",
       "Abramowitz and Stegun, figure 4.4, page 79.\n",
       "</p>\n",
       "<p>For <code>asin</code> and <code>acos</code>, there are two cuts, both along\n",
       "the real axis: <code class=\"reqn\">\\left(-\\infty, -1\\right]</code> and\n",
       "<code class=\"reqn\">\\left[1, \\infty\\right)</code>.\n",
       "</p>\n",
       "<p>For <code>atan</code> there are two cuts, both along the pure imaginary\n",
       "axis: <code class=\"reqn\">\\left(-\\infty i, -1i\\right]</code> and\n",
       "<code class=\"reqn\">\\left[1i, \\infty i\\right)</code>.\n",
       "</p>\n",
       "<p>The behaviour actually on the cuts follows the C99 standard which\n",
       "requires continuity coming round the endpoint in a counter-clockwise\n",
       "direction.\n",
       "</p>\n",
       "<p>Complex arguments for  <code>cospi</code>, <code>sinpi</code>, and <code>tanpi</code>\n",
       "are not yet implemented, and they are a &lsquo;future direction&rsquo; of\n",
       "ISO/<abbr>IEC</abbr> TS 18661-4.\n",
       "</p>\n",
       "\n",
       "\n",
       "<h3>S4 methods</h3>\n",
       "\n",
       "<p>All except <code>atan2</code> are S4 generic functions: methods can be defined\n",
       "for them individually or via the\n",
       "<code>Math</code> group generic.\n",
       "</p>\n",
       "\n",
       "\n",
       "<h3>References</h3>\n",
       "\n",
       "<p>Becker, R. A., Chambers, J. M. and Wilks, A. R. (1988)\n",
       "<em>The New S Language</em>.\n",
       "Wadsworth &amp; Brooks/Cole.\n",
       "</p>\n",
       "<p>Abramowitz, M. and Stegun, I. A. (1972). <em>Handbook of\n",
       "Mathematical Functions</em>. New York: Dover.<br />\n",
       "Chapter 4. Elementary Transcendental Functions: Logarithmic,\n",
       "Exponential, Circular and Hyperbolic Functions\n",
       "</p>\n",
       "<p>For <code>cospi</code>, <code>sinpi</code>, and <code>tanpi</code> the C11 extension\n",
       "ISO/IEC TS 18661-4:2015 (draft at\n",
       "<a href=\"https://www.open-std.org/jtc1/sc22/wg14/www/docs/n1950.pdf\">https://www.open-std.org/jtc1/sc22/wg14/www/docs/n1950.pdf</a>).\n",
       "</p>\n",
       "\n",
       "\n",
       "<h3>Examples</h3>\n",
       "\n",
       "<pre><code class='language-R'>x &lt;- seq(-3, 7, by = 1/8)\n",
       "tx &lt;- cbind(x, cos(pi*x), cospi(x), sin(pi*x), sinpi(x),\n",
       "               tan(pi*x), tanpi(x), deparse.level=2)\n",
       "op &lt;- options(digits = 4, width = 90) # for nice formatting\n",
       "head(tx)\n",
       "tx[ (x %% 1) %in% c(0, 0.5) ,]\n",
       "options(op)\n",
       "</code></pre>\n",
       "\n",
       "<hr /><div style=\"text-align: center;\">[Package <em>base</em> version 4.5.1 ]</div></main>\n",
       "\n",
       "</div>"
      ],
      "text/latex": [
       "\\HeaderA{Trig}{Trigonometric Functions}{Trig}\n",
       "\\aliasA{acos}{Trig}{acos}\n",
       "\\aliasA{arccos}{Trig}{arccos}\n",
       "\\aliasA{arcsin}{Trig}{arcsin}\n",
       "\\aliasA{arctan}{Trig}{arctan}\n",
       "\\aliasA{asin}{Trig}{asin}\n",
       "\\aliasA{atan}{Trig}{atan}\n",
       "\\aliasA{atan2}{Trig}{atan2}\n",
       "\\aliasA{cos}{Trig}{cos}\n",
       "\\aliasA{cospi}{Trig}{cospi}\n",
       "\\aliasA{sin}{Trig}{sin}\n",
       "\\aliasA{sinpi}{Trig}{sinpi}\n",
       "\\aliasA{tan}{Trig}{tan}\n",
       "\\aliasA{tanpi}{Trig}{tanpi}\n",
       "\\keyword{math}{Trig}\n",
       "%\n",
       "\\begin{Description}\n",
       "These functions give the obvious trigonometric functions.  They\n",
       "respectively compute the cosine, sine, tangent, arc-cosine, arc-sine,\n",
       "arc-tangent, and the two-argument arc-tangent.\n",
       "\n",
       "\\code{cospi(x)}, \\code{sinpi(x)}, and \\code{tanpi(x)}, compute\n",
       "\\code{cos(pi*x)}, \\code{sin(pi*x)}, and \\code{tan(pi*x)}.\n",
       "\\end{Description}\n",
       "%\n",
       "\\begin{Usage}\n",
       "\\begin{verbatim}\n",
       "cos(x)\n",
       "sin(x)\n",
       "tan(x)\n",
       "\n",
       "acos(x)\n",
       "asin(x)\n",
       "atan(x)\n",
       "atan2(y, x)\n",
       "\n",
       "cospi(x)\n",
       "sinpi(x)\n",
       "tanpi(x)\n",
       "\\end{verbatim}\n",
       "\\end{Usage}\n",
       "%\n",
       "\\begin{Arguments}\n",
       "\\begin{ldescription}\n",
       "\\item[\\code{x}, \\code{y}] numeric or complex vectors.\n",
       "\\end{ldescription}\n",
       "\\end{Arguments}\n",
       "%\n",
       "\\begin{Details}\n",
       "The arc-tangent of two arguments \\code{atan2(y, x)} returns the angle\n",
       "between the x-axis and the vector from the origin to \\eqn{(x, y)}{},\n",
       "i.e., for positive arguments \\code{atan2(y, x) == atan(y/x)}.\n",
       "\n",
       "Angles are in radians, not degrees, for the standard versions (i.e., a\n",
       "right angle is \\eqn{\\pi/2}{}), and in `half-rotations' for\n",
       "\\code{cospi} etc.\n",
       "\n",
       "\\code{cospi(x)}, \\code{sinpi(x)}, and \\code{tanpi(x)} are accurate\n",
       "for \\code{x} values which are multiples of a half.\n",
       "\n",
       "All except \\code{atan2} are \\LinkA{internal generic}{internal generic} \\LinkA{primitive}{primitive}\n",
       "functions: methods can be defined for them individually or via the\n",
       "\\code{\\LinkA{Math}{S3groupGeneric}} group generic.\n",
       "\n",
       "These are all wrappers to system calls of the same name (with prefix\n",
       "\\code{c} for complex arguments) where available.  (\\code{cospi},\n",
       "\\code{sinpi}, and \\code{tanpi} are part of a C11 extension\n",
       "and provided by e.g.~macOS and Solaris: where not yet\n",
       "available call to \\code{cos} \\emph{etc} are used, with special cases\n",
       "for  multiples of a half.)\n",
       "\\end{Details}\n",
       "%\n",
       "\\begin{Value}\n",
       "\\code{tanpi(0.5)} is \\code{\\LinkA{NaN}{NaN}}.  Similarly for other inputs\n",
       "with fractional part \\code{0.5}.\n",
       "\\end{Value}\n",
       "%\n",
       "\\begin{Section}{Complex values}\n",
       "For the inverse trigonometric functions, branch cuts are defined as in\n",
       "Abramowitz and Stegun, figure 4.4, page 79.\n",
       "\n",
       "For \\code{asin} and \\code{acos}, there are two cuts, both along\n",
       "the real axis: \\eqn{\\left(-\\infty, -1\\right]}{} and\n",
       "\\eqn{\\left[1, \\infty\\right)}{}.\n",
       "\n",
       "For \\code{atan} there are two cuts, both along the pure imaginary\n",
       "axis: \\eqn{\\left(-\\infty i, -1i\\right]}{} and\n",
       "\\eqn{\\left[1i, \\infty i\\right)}{}.\n",
       "\n",
       "The behaviour actually on the cuts follows the C99 standard which\n",
       "requires continuity coming round the endpoint in a counter-clockwise\n",
       "direction.\n",
       "\n",
       "Complex arguments for  \\code{cospi}, \\code{sinpi}, and \\code{tanpi}\n",
       "are not yet implemented, and they are a `future direction' of\n",
       "ISO/\\abbr{IEC} TS 18661-4.\n",
       "\\end{Section}\n",
       "%\n",
       "\\begin{Section}{S4 methods}\n",
       "All except \\code{atan2} are S4 generic functions: methods can be defined\n",
       "for them individually or via the\n",
       "\\code{\\LinkA{Math}{S4groupGeneric}} group generic.\n",
       "\\end{Section}\n",
       "%\n",
       "\\begin{References}\n",
       "Becker, R. A., Chambers, J. M. and Wilks, A. R. (1988)\n",
       "\\emph{The New S Language}.\n",
       "Wadsworth \\& Brooks/Cole.\n",
       "\n",
       "Abramowitz, M. and Stegun, I. A. (1972). \\emph{Handbook of\n",
       "Mathematical Functions}. New York: Dover.\\\\{}\n",
       "Chapter 4. Elementary Transcendental Functions: Logarithmic,\n",
       "Exponential, Circular and Hyperbolic Functions\n",
       "\n",
       "For \\code{cospi}, \\code{sinpi}, and \\code{tanpi} the C11 extension\n",
       "ISO/IEC TS 18661-4:2015 (draft at\n",
       "\\url{https://www.open-std.org/jtc1/sc22/wg14/www/docs/n1950.pdf}).\n",
       "\n",
       "\\end{References}\n",
       "%\n",
       "\\begin{Examples}\n",
       "\\begin{ExampleCode}\n",
       "x <- seq(-3, 7, by = 1/8)\n",
       "tx <- cbind(x, cos(pi*x), cospi(x), sin(pi*x), sinpi(x),\n",
       "               tan(pi*x), tanpi(x), deparse.level=2)\n",
       "op <- options(digits = 4, width = 90) # for nice formatting\n",
       "head(tx)\n",
       "tx[ (x %% 1) %in% c(0, 0.5) ,]\n",
       "options(op)\n",
       "\\end{ExampleCode}\n",
       "\\end{Examples}"
      ],
      "text/plain": [
       "Trig                   package:base                    R Documentation\n",
       "\n",
       "_\bT_\br_\bi_\bg_\bo_\bn_\bo_\bm_\be_\bt_\br_\bi_\bc _\bF_\bu_\bn_\bc_\bt_\bi_\bo_\bn_\bs\n",
       "\n",
       "_\bD_\be_\bs_\bc_\br_\bi_\bp_\bt_\bi_\bo_\bn:\n",
       "\n",
       "     These functions give the obvious trigonometric functions.  They\n",
       "     respectively compute the cosine, sine, tangent, arc-cosine,\n",
       "     arc-sine, arc-tangent, and the two-argument arc-tangent.\n",
       "\n",
       "     'cospi(x)', 'sinpi(x)', and 'tanpi(x)', compute 'cos(pi*x)',\n",
       "     'sin(pi*x)', and 'tan(pi*x)'.\n",
       "\n",
       "_\bU_\bs_\ba_\bg_\be:\n",
       "\n",
       "     cos(x)\n",
       "     sin(x)\n",
       "     tan(x)\n",
       "     \n",
       "     acos(x)\n",
       "     asin(x)\n",
       "     atan(x)\n",
       "     atan2(y, x)\n",
       "     \n",
       "     cospi(x)\n",
       "     sinpi(x)\n",
       "     tanpi(x)\n",
       "     \n",
       "_\bA_\br_\bg_\bu_\bm_\be_\bn_\bt_\bs:\n",
       "\n",
       "    x, y: numeric or complex vectors.\n",
       "\n",
       "_\bD_\be_\bt_\ba_\bi_\bl_\bs:\n",
       "\n",
       "     The arc-tangent of two arguments 'atan2(y, x)' returns the angle\n",
       "     between the x-axis and the vector from the origin to (x, y), i.e.,\n",
       "     for positive arguments 'atan2(y, x) == atan(y/x)'.\n",
       "\n",
       "     Angles are in radians, not degrees, for the standard versions\n",
       "     (i.e., a right angle is pi/2), and in 'half-rotations' for 'cospi'\n",
       "     etc.\n",
       "\n",
       "     'cospi(x)', 'sinpi(x)', and 'tanpi(x)' are accurate for 'x' values\n",
       "     which are multiples of a half.\n",
       "\n",
       "     All except 'atan2' are internal generic primitive functions:\n",
       "     methods can be defined for them individually or via the 'Math'\n",
       "     group generic.\n",
       "\n",
       "     These are all wrappers to system calls of the same name (with\n",
       "     prefix 'c' for complex arguments) where available.  ('cospi',\n",
       "     'sinpi', and 'tanpi' are part of a C11 extension and provided by\n",
       "     e.g. macOS and Solaris: where not yet available call to 'cos'\n",
       "     _etc_ are used, with special cases for multiples of a half.)\n",
       "\n",
       "_\bV_\ba_\bl_\bu_\be:\n",
       "\n",
       "     'tanpi(0.5)' is 'NaN'.  Similarly for other inputs with fractional\n",
       "     part '0.5'.\n",
       "\n",
       "_\bC_\bo_\bm_\bp_\bl_\be_\bx _\bv_\ba_\bl_\bu_\be_\bs:\n",
       "\n",
       "     For the inverse trigonometric functions, branch cuts are defined\n",
       "     as in Abramowitz and Stegun, figure 4.4, page 79.\n",
       "\n",
       "     For 'asin' and 'acos', there are two cuts, both along the real\n",
       "     axis: (-Inf, -1] and [1, Inf).\n",
       "\n",
       "     For 'atan' there are two cuts, both along the pure imaginary axis:\n",
       "     (-1i*Inf, -1i] and [1i, 1i*Inf).\n",
       "\n",
       "     The behaviour actually on the cuts follows the C99 standard which\n",
       "     requires continuity coming round the endpoint in a\n",
       "     counter-clockwise direction.\n",
       "\n",
       "     Complex arguments for 'cospi', 'sinpi', and 'tanpi' are not yet\n",
       "     implemented, and they are a 'future direction' of ISO/IEC TS\n",
       "     18661-4.\n",
       "\n",
       "_\bS_\b4 _\bm_\be_\bt_\bh_\bo_\bd_\bs:\n",
       "\n",
       "     All except 'atan2' are S4 generic functions: methods can be\n",
       "     defined for them individually or via the 'Math' group generic.\n",
       "\n",
       "_\bR_\be_\bf_\be_\br_\be_\bn_\bc_\be_\bs:\n",
       "\n",
       "     Becker, R. A., Chambers, J. M. and Wilks, A. R. (1988) _The New S\n",
       "     Language_.  Wadsworth & Brooks/Cole.\n",
       "\n",
       "     Abramowitz, M. and Stegun, I. A. (1972). _Handbook of Mathematical\n",
       "     Functions_. New York: Dover.\n",
       "     Chapter 4. Elementary Transcendental Functions: Logarithmic,\n",
       "     Exponential, Circular and Hyperbolic Functions\n",
       "\n",
       "     For 'cospi', 'sinpi', and 'tanpi' the C11 extension ISO/IEC TS\n",
       "     18661-4:2015 (draft at\n",
       "     <https://www.open-std.org/jtc1/sc22/wg14/www/docs/n1950.pdf>).\n",
       "\n",
       "_\bE_\bx_\ba_\bm_\bp_\bl_\be_\bs:\n",
       "\n",
       "     x <- seq(-3, 7, by = 1/8)\n",
       "     tx <- cbind(x, cos(pi*x), cospi(x), sin(pi*x), sinpi(x),\n",
       "                    tan(pi*x), tanpi(x), deparse.level=2)\n",
       "     op <- options(digits = 4, width = 90) # for nice formatting\n",
       "     head(tx)\n",
       "     tx[ (x %% 1) %in% c(0, 0.5) ,]\n",
       "     options(op)\n",
       "     "
      ]
     },
     "metadata": {},
     "output_type": "display_data"
    }
   ],
   "source": [
    "?sin"
   ]
  },
  {
   "cell_type": "code",
   "execution_count": 25,
   "id": "af5be706-b1a2-44d1-b5e6-37b2667edf09",
   "metadata": {},
   "outputs": [
    {
     "data": {
      "text/html": [
       "1"
      ],
      "text/latex": [
       "1"
      ],
      "text/markdown": [
       "1"
      ],
      "text/plain": [
       "[1] 1"
      ]
     },
     "metadata": {},
     "output_type": "display_data"
    }
   ],
   "source": [
    "counter1 <- function(start, step){\n",
    "val <- start;\n",
    "function(){\n",
    "old_val <- val;\n",
    "val <- val + step;\n",
    "old_val;\n",
    "}\n",
    "}\n",
    "counter_from_1 <- counter1(1,1);\n",
    "counter_from_1()"
   ]
  },
  {
   "cell_type": "code",
   "execution_count": 26,
   "id": "3b6af3c6-b546-47de-9541-09c9df6a8c78",
   "metadata": {},
   "outputs": [
    {
     "data": {
      "text/html": [
       "1"
      ],
      "text/latex": [
       "1"
      ],
      "text/markdown": [
       "1"
      ],
      "text/plain": [
       "[1] 1"
      ]
     },
     "metadata": {},
     "output_type": "display_data"
    }
   ],
   "source": [
    "counter2 <- function(start, step){\n",
    "val <- start;\n",
    "function(){\n",
    "old_val <- val;\n",
    "val <<- val + step;\n",
    "old_val;\n",
    "}\n",
    "}\n",
    "counter_from_1 <- counter2(1,1);\n",
    "counter_from_1()\n"
   ]
  },
  {
   "cell_type": "code",
   "execution_count": 27,
   "id": "efd4e366-351d-4253-9dbe-79dbba0758af",
   "metadata": {},
   "outputs": [
    {
     "ename": "ERROR",
     "evalue": "Error in parse(text = input): <text>:1:8: unexpected symbol\n1: import pandas\n           ^\n",
     "output_type": "error",
     "traceback": [
      "Error in parse(text = input): <text>:1:8: unexpected symbol\n1: import pandas\n           ^\nTraceback:\n"
     ]
    }
   ],
   "source": [
    "import pandas as pd"
   ]
  },
  {
   "cell_type": "code",
   "execution_count": 28,
   "id": "6c204afa-f5bd-4d4d-94c5-f3f9b6b97a1f",
   "metadata": {},
   "outputs": [
    {
     "ename": "ERROR",
     "evalue": "Error in parse(text = input): <text>:1:8: unexpected symbol\n1: import pandas\n           ^\n",
     "output_type": "error",
     "traceback": [
      "Error in parse(text = input): <text>:1:8: unexpected symbol\n1: import pandas\n           ^\nTraceback:\n"
     ]
    }
   ],
   "source": [
    "import pandas as pd"
   ]
  },
  {
   "cell_type": "code",
   "execution_count": 29,
   "id": "49bbfd2d-c3a2-4236-80f4-5895128457b6",
   "metadata": {},
   "outputs": [
    {
     "ename": "ERROR",
     "evalue": "Error: 'cars.csv' does not exist in current working directory ('C:/Users/Sara').\n",
     "output_type": "error",
     "traceback": [
      "Error: 'cars.csv' does not exist in current working directory ('C:/Users/Sara').\nTraceback:\n",
      "1. vroom::vroom(file, delim = \",\", col_names = col_names, col_types = col_types, \n .     col_select = {\n .         {\n .             col_select\n .         }\n .     }, id = id, .name_repair = name_repair, skip = skip, n_max = n_max, \n .     na = na, quote = quote, comment = comment, skip_empty_rows = skip_empty_rows, \n .     trim_ws = trim_ws, escape_double = TRUE, escape_backslash = FALSE, \n .     locale = locale, guess_max = guess_max, show_col_types = show_col_types, \n .     progress = progress, altrep = lazy, num_threads = num_threads)",
      "2. vroom_(file, delim = delim %||% col_types$delim, col_names = col_names, \n .     col_types = col_types, id = id, skip = skip, col_select = col_select, \n .     name_repair = .name_repair, na = na, quote = quote, trim_ws = trim_ws, \n .     escape_double = escape_double, escape_backslash = escape_backslash, \n .     comment = comment, skip_empty_rows = skip_empty_rows, locale = locale, \n .     guess_max = guess_max, n_max = n_max, altrep = vroom_altrep(altrep), \n .     num_threads = num_threads, progress = progress)",
      "3. (function (path, write = FALSE) \n . {\n .     if (is.raw(path)) {\n .         return(rawConnection(path, \"rb\"))\n .     }\n .     if (!is.character(path)) {\n .         return(path)\n .     }\n .     if (is_url(path)) {\n .         if (requireNamespace(\"curl\", quietly = TRUE)) {\n .             con <- curl::curl(path)\n .         }\n .         else {\n .             inform(\"`curl` package not installed, falling back to using `url()`\")\n .             con <- url(path)\n .         }\n .         ext <- tolower(tools::file_ext(path))\n .         return(switch(ext, zip = , bz2 = , xz = {\n .             close(con)\n .             stop(\"Reading from remote `\", ext, \"` compressed files is not supported,\\n\", \n .                 \"  download the files locally first.\", call. = FALSE)\n .         }, gz = gzcon(con), con))\n .     }\n .     path <- enc2utf8(path)\n .     p <- split_path_ext(basename_utf8(path))\n .     if (write) {\n .         path <- normalizePath_utf8(path, mustWork = FALSE)\n .     }\n .     else {\n .         path <- check_path(path)\n .     }\n .     if (is_installed(\"archive\")) {\n .         formats <- archive_formats(p$extension)\n .         extension <- p$extension\n .         while (is.null(formats) && nzchar(extension)) {\n .             extension <- split_path_ext(extension)$extension\n .             formats <- archive_formats(extension)\n .         }\n .         if (!is.null(formats)) {\n .             p$extension <- extension\n .             if (write) {\n .                 if (is.null(formats[[1]])) {\n .                   return(archive::file_write(path, filter = formats[[2]]))\n .                 }\n .                 return(archive::archive_write(path, p$path, format = formats[[1]], \n .                   filter = formats[[2]]))\n .             }\n .             if (is.null(formats[[1]])) {\n .                 return(archive::file_read(path, filter = formats[[2]]))\n .             }\n .             return(archive::archive_read(path, format = formats[[1]], \n .                 filter = formats[[2]]))\n .         }\n .     }\n .     if (!write) {\n .         compression <- detect_compression(path)\n .     }\n .     else {\n .         compression <- NA\n .     }\n .     if (is.na(compression)) {\n .         compression <- tools::file_ext(path)\n .     }\n .     if (write && compression == \"zip\") {\n .         stop(\"Can only read from, not write to, .zip\", call. = FALSE)\n .     }\n .     switch(compression, gz = gzfile(path, \"\"), bz2 = bzfile(path, \n .         \"\"), xz = xzfile(path, \"\"), zip = zipfile(path, \"\"), \n .         if (!has_trailing_newline(path)) {\n .             file(path)\n .         } else {\n .             path\n .         })\n . })(\"cars.csv\")",
      "4. check_path(path)",
      "5. stop(\"'\", path, \"' does not exist\", if (!is_absolute_path(path)) {\n .     paste0(\" in current working directory ('\", getwd(), \"')\")\n . }, \".\", call. = FALSE)",
      "6. .handleSimpleError(function (cnd) \n . {\n .     watcher$capture_plot_and_output()\n .     cnd <- sanitize_call(cnd)\n .     watcher$push(cnd)\n .     switch(on_error, continue = invokeRestart(\"eval_continue\"), \n .         stop = invokeRestart(\"eval_stop\"), error = NULL)\n . }, \"'cars.csv' does not exist in current working directory ('C:/Users/Sara').\", \n .     base::quote(NULL))"
     ]
    }
   ],
   "source": [
    "cars <- read_csv(\"cars.csv\")"
   ]
  },
  {
   "cell_type": "code",
   "execution_count": 30,
   "id": "b603bda0-4d5c-4e98-a63a-ac61f7c59158",
   "metadata": {},
   "outputs": [
    {
     "ename": "ERROR",
     "evalue": "Error: 'cars.csv' does not exist in current working directory ('C:/Users/Sara').\n",
     "output_type": "error",
     "traceback": [
      "Error: 'cars.csv' does not exist in current working directory ('C:/Users/Sara').\nTraceback:\n",
      "1. vroom::vroom(file, delim = \",\", col_names = col_names, col_types = col_types, \n .     col_select = {\n .         {\n .             col_select\n .         }\n .     }, id = id, .name_repair = name_repair, skip = skip, n_max = n_max, \n .     na = na, quote = quote, comment = comment, skip_empty_rows = skip_empty_rows, \n .     trim_ws = trim_ws, escape_double = TRUE, escape_backslash = FALSE, \n .     locale = locale, guess_max = guess_max, show_col_types = show_col_types, \n .     progress = progress, altrep = lazy, num_threads = num_threads)",
      "2. vroom_(file, delim = delim %||% col_types$delim, col_names = col_names, \n .     col_types = col_types, id = id, skip = skip, col_select = col_select, \n .     name_repair = .name_repair, na = na, quote = quote, trim_ws = trim_ws, \n .     escape_double = escape_double, escape_backslash = escape_backslash, \n .     comment = comment, skip_empty_rows = skip_empty_rows, locale = locale, \n .     guess_max = guess_max, n_max = n_max, altrep = vroom_altrep(altrep), \n .     num_threads = num_threads, progress = progress)",
      "3. (function (path, write = FALSE) \n . {\n .     if (is.raw(path)) {\n .         return(rawConnection(path, \"rb\"))\n .     }\n .     if (!is.character(path)) {\n .         return(path)\n .     }\n .     if (is_url(path)) {\n .         if (requireNamespace(\"curl\", quietly = TRUE)) {\n .             con <- curl::curl(path)\n .         }\n .         else {\n .             inform(\"`curl` package not installed, falling back to using `url()`\")\n .             con <- url(path)\n .         }\n .         ext <- tolower(tools::file_ext(path))\n .         return(switch(ext, zip = , bz2 = , xz = {\n .             close(con)\n .             stop(\"Reading from remote `\", ext, \"` compressed files is not supported,\\n\", \n .                 \"  download the files locally first.\", call. = FALSE)\n .         }, gz = gzcon(con), con))\n .     }\n .     path <- enc2utf8(path)\n .     p <- split_path_ext(basename_utf8(path))\n .     if (write) {\n .         path <- normalizePath_utf8(path, mustWork = FALSE)\n .     }\n .     else {\n .         path <- check_path(path)\n .     }\n .     if (is_installed(\"archive\")) {\n .         formats <- archive_formats(p$extension)\n .         extension <- p$extension\n .         while (is.null(formats) && nzchar(extension)) {\n .             extension <- split_path_ext(extension)$extension\n .             formats <- archive_formats(extension)\n .         }\n .         if (!is.null(formats)) {\n .             p$extension <- extension\n .             if (write) {\n .                 if (is.null(formats[[1]])) {\n .                   return(archive::file_write(path, filter = formats[[2]]))\n .                 }\n .                 return(archive::archive_write(path, p$path, format = formats[[1]], \n .                   filter = formats[[2]]))\n .             }\n .             if (is.null(formats[[1]])) {\n .                 return(archive::file_read(path, filter = formats[[2]]))\n .             }\n .             return(archive::archive_read(path, format = formats[[1]], \n .                 filter = formats[[2]]))\n .         }\n .     }\n .     if (!write) {\n .         compression <- detect_compression(path)\n .     }\n .     else {\n .         compression <- NA\n .     }\n .     if (is.na(compression)) {\n .         compression <- tools::file_ext(path)\n .     }\n .     if (write && compression == \"zip\") {\n .         stop(\"Can only read from, not write to, .zip\", call. = FALSE)\n .     }\n .     switch(compression, gz = gzfile(path, \"\"), bz2 = bzfile(path, \n .         \"\"), xz = xzfile(path, \"\"), zip = zipfile(path, \"\"), \n .         if (!has_trailing_newline(path)) {\n .             file(path)\n .         } else {\n .             path\n .         })\n . })(\"cars.csv\")",
      "4. check_path(path)",
      "5. stop(\"'\", path, \"' does not exist\", if (!is_absolute_path(path)) {\n .     paste0(\" in current working directory ('\", getwd(), \"')\")\n . }, \".\", call. = FALSE)",
      "6. .handleSimpleError(function (cnd) \n . {\n .     watcher$capture_plot_and_output()\n .     cnd <- sanitize_call(cnd)\n .     watcher$push(cnd)\n .     switch(on_error, continue = invokeRestart(\"eval_continue\"), \n .         stop = invokeRestart(\"eval_stop\"), error = NULL)\n . }, \"'cars.csv' does not exist in current working directory ('C:/Users/Sara').\", \n .     base::quote(NULL))"
     ]
    }
   ],
   "source": [
    "library(tidyverse)\n",
    "cars <- read_csv(\"cars.csv\")\n"
   ]
  },
  {
   "cell_type": "code",
   "execution_count": 31,
   "id": "b02097e2-4dd0-466b-92a1-c64e65dad745",
   "metadata": {},
   "outputs": [
    {
     "name": "stderr",
     "output_type": "stream",
     "text": [
      "\u001b[1mRows: \u001b[22m\u001b[34m36\u001b[39m \u001b[1mColumns: \u001b[22m\u001b[34m5\u001b[39m\n",
      "\u001b[36m──\u001b[39m \u001b[1mColumn specification\u001b[22m \u001b[36m────────────────────────────────────────\u001b[39m\n",
      "\u001b[1mDelimiter:\u001b[22m \",\"\n",
      "\u001b[31mchr\u001b[39m (2): Make, Model\n",
      "\u001b[32mdbl\u001b[39m (3): Volume, Weight, CO2\n",
      "\n",
      "\u001b[36mℹ\u001b[39m Use `spec()` to retrieve the full column specification for this data.\n",
      "\u001b[36mℹ\u001b[39m Specify the column types or set `show_col_types = FALSE` to quiet this message.\n"
     ]
    }
   ],
   "source": [
    "setwd(\"C:/Users/Sara/bios512\")\n",
    "cars <- read_csv(\"cars.csv\")"
   ]
  },
  {
   "cell_type": "code",
   "execution_count": 32,
   "id": "80b95163-e557-4fab-aeb5-92c158b46048",
   "metadata": {},
   "outputs": [
    {
     "ename": "ERROR",
     "evalue": "Error in parse(text = input): <text>:1:17: unexpected SPECIAL\n1: cars_summary <- %>%\n                    ^\n",
     "output_type": "error",
     "traceback": [
      "Error in parse(text = input): <text>:1:17: unexpected SPECIAL\n1: cars_summary <- %>%\n                    ^\nTraceback:\n"
     ]
    }
   ],
   "source": [
    "cars_summary <- %>%\n",
    "    group_by(Make) %>%\n",
    "    summarise(across(c(Volume, Weight, CO2), mean, na.rm = TRUE)) %>%\n",
    "    arrange(desc(Volume))"
   ]
  },
  {
   "cell_type": "code",
   "execution_count": 33,
   "id": "86a51fb2-e1ec-4fae-9d7f-ea535678f992",
   "metadata": {},
   "outputs": [
    {
     "name": "stderr",
     "output_type": "stream",
     "text": [
      "Warning message:\n",
      "\"\u001b[1m\u001b[22mThere was 1 warning in `summarise()`.\n",
      "\u001b[1m\u001b[22m\u001b[36mℹ\u001b[39m In argument: `across(c(Volume, Weight, CO2), mean, na.rm =\n",
      "  TRUE)`.\n",
      "\u001b[36mℹ\u001b[39m In group 1: `Make = \"Audi\"`.\n",
      "Caused by warning:\n",
      "\u001b[1m\u001b[22m\u001b[33m!\u001b[39m The `...` argument of `across()` is deprecated as of dplyr\n",
      "  1.1.0.\n",
      "Supply arguments directly to `.fns` through an anonymous\n",
      "function instead.\n",
      "\n",
      "  # Previously\n",
      "  across(a:b, mean, na.rm = TRUE)\n",
      "\n",
      "  # Now\n",
      "  across(a:b, \\(x) mean(x, na.rm = TRUE))\"\n"
     ]
    },
    {
     "data": {
      "text/html": [
       "<table class=\"dataframe\">\n",
       "<caption>A tibble: 17 × 4</caption>\n",
       "<thead>\n",
       "\t<tr><th scope=col>Make</th><th scope=col>Volume</th><th scope=col>Weight</th><th scope=col>CO2</th></tr>\n",
       "\t<tr><th scope=col>&lt;chr&gt;</th><th scope=col>&lt;dbl&gt;</th><th scope=col>&lt;dbl&gt;</th><th scope=col>&lt;dbl&gt;</th></tr>\n",
       "</thead>\n",
       "<tbody>\n",
       "\t<tr><td>Mazda     </td><td>2200.000</td><td>1280.000</td><td>104.0000</td></tr>\n",
       "\t<tr><td>Mercedes  </td><td>1940.000</td><td>1439.000</td><td>105.6000</td></tr>\n",
       "\t<tr><td>Audi      </td><td>1866.667</td><td>1455.000</td><td>105.6667</td></tr>\n",
       "\t<tr><td>Volvo     </td><td>1866.667</td><td>1561.333</td><td>108.3333</td></tr>\n",
       "\t<tr><td>BMW       </td><td>1733.333</td><td>1486.667</td><td>107.0000</td></tr>\n",
       "\t<tr><td>Opel      </td><td>1733.333</td><td>1387.667</td><td>101.6667</td></tr>\n",
       "\t<tr><td>Honda     </td><td>1600.000</td><td>1252.000</td><td> 94.0000</td></tr>\n",
       "\t<tr><td>Hundai    </td><td>1600.000</td><td>1326.000</td><td> 97.0000</td></tr>\n",
       "\t<tr><td>Ford      </td><td>1540.000</td><td>1274.200</td><td>100.0000</td></tr>\n",
       "\t<tr><td>Mini      </td><td>1500.000</td><td>1140.000</td><td>105.0000</td></tr>\n",
       "\t<tr><td>Skoda     </td><td>1400.000</td><td>1143.000</td><td> 97.0000</td></tr>\n",
       "\t<tr><td>Suzuki    </td><td>1300.000</td><td> 990.000</td><td>101.0000</td></tr>\n",
       "\t<tr><td>Mitsubishi</td><td>1200.000</td><td>1160.000</td><td> 95.0000</td></tr>\n",
       "\t<tr><td>Hyundai   </td><td>1100.000</td><td> 980.000</td><td> 99.0000</td></tr>\n",
       "\t<tr><td>Toyoty    </td><td>1000.000</td><td> 790.000</td><td> 99.0000</td></tr>\n",
       "\t<tr><td>VW        </td><td>1000.000</td><td> 929.000</td><td>105.0000</td></tr>\n",
       "\t<tr><td>Fiat      </td><td> 900.000</td><td> 865.000</td><td> 90.0000</td></tr>\n",
       "</tbody>\n",
       "</table>\n"
      ],
      "text/latex": [
       "A tibble: 17 × 4\n",
       "\\begin{tabular}{llll}\n",
       " Make & Volume & Weight & CO2\\\\\n",
       " <chr> & <dbl> & <dbl> & <dbl>\\\\\n",
       "\\hline\n",
       "\t Mazda      & 2200.000 & 1280.000 & 104.0000\\\\\n",
       "\t Mercedes   & 1940.000 & 1439.000 & 105.6000\\\\\n",
       "\t Audi       & 1866.667 & 1455.000 & 105.6667\\\\\n",
       "\t Volvo      & 1866.667 & 1561.333 & 108.3333\\\\\n",
       "\t BMW        & 1733.333 & 1486.667 & 107.0000\\\\\n",
       "\t Opel       & 1733.333 & 1387.667 & 101.6667\\\\\n",
       "\t Honda      & 1600.000 & 1252.000 &  94.0000\\\\\n",
       "\t Hundai     & 1600.000 & 1326.000 &  97.0000\\\\\n",
       "\t Ford       & 1540.000 & 1274.200 & 100.0000\\\\\n",
       "\t Mini       & 1500.000 & 1140.000 & 105.0000\\\\\n",
       "\t Skoda      & 1400.000 & 1143.000 &  97.0000\\\\\n",
       "\t Suzuki     & 1300.000 &  990.000 & 101.0000\\\\\n",
       "\t Mitsubishi & 1200.000 & 1160.000 &  95.0000\\\\\n",
       "\t Hyundai    & 1100.000 &  980.000 &  99.0000\\\\\n",
       "\t Toyoty     & 1000.000 &  790.000 &  99.0000\\\\\n",
       "\t VW         & 1000.000 &  929.000 & 105.0000\\\\\n",
       "\t Fiat       &  900.000 &  865.000 &  90.0000\\\\\n",
       "\\end{tabular}\n"
      ],
      "text/markdown": [
       "\n",
       "A tibble: 17 × 4\n",
       "\n",
       "| Make &lt;chr&gt; | Volume &lt;dbl&gt; | Weight &lt;dbl&gt; | CO2 &lt;dbl&gt; |\n",
       "|---|---|---|---|\n",
       "| Mazda      | 2200.000 | 1280.000 | 104.0000 |\n",
       "| Mercedes   | 1940.000 | 1439.000 | 105.6000 |\n",
       "| Audi       | 1866.667 | 1455.000 | 105.6667 |\n",
       "| Volvo      | 1866.667 | 1561.333 | 108.3333 |\n",
       "| BMW        | 1733.333 | 1486.667 | 107.0000 |\n",
       "| Opel       | 1733.333 | 1387.667 | 101.6667 |\n",
       "| Honda      | 1600.000 | 1252.000 |  94.0000 |\n",
       "| Hundai     | 1600.000 | 1326.000 |  97.0000 |\n",
       "| Ford       | 1540.000 | 1274.200 | 100.0000 |\n",
       "| Mini       | 1500.000 | 1140.000 | 105.0000 |\n",
       "| Skoda      | 1400.000 | 1143.000 |  97.0000 |\n",
       "| Suzuki     | 1300.000 |  990.000 | 101.0000 |\n",
       "| Mitsubishi | 1200.000 | 1160.000 |  95.0000 |\n",
       "| Hyundai    | 1100.000 |  980.000 |  99.0000 |\n",
       "| Toyoty     | 1000.000 |  790.000 |  99.0000 |\n",
       "| VW         | 1000.000 |  929.000 | 105.0000 |\n",
       "| Fiat       |  900.000 |  865.000 |  90.0000 |\n",
       "\n"
      ],
      "text/plain": [
       "   Make       Volume   Weight   CO2     \n",
       "1  Mazda      2200.000 1280.000 104.0000\n",
       "2  Mercedes   1940.000 1439.000 105.6000\n",
       "3  Audi       1866.667 1455.000 105.6667\n",
       "4  Volvo      1866.667 1561.333 108.3333\n",
       "5  BMW        1733.333 1486.667 107.0000\n",
       "6  Opel       1733.333 1387.667 101.6667\n",
       "7  Honda      1600.000 1252.000  94.0000\n",
       "8  Hundai     1600.000 1326.000  97.0000\n",
       "9  Ford       1540.000 1274.200 100.0000\n",
       "10 Mini       1500.000 1140.000 105.0000\n",
       "11 Skoda      1400.000 1143.000  97.0000\n",
       "12 Suzuki     1300.000  990.000 101.0000\n",
       "13 Mitsubishi 1200.000 1160.000  95.0000\n",
       "14 Hyundai    1100.000  980.000  99.0000\n",
       "15 Toyoty     1000.000  790.000  99.0000\n",
       "16 VW         1000.000  929.000 105.0000\n",
       "17 Fiat        900.000  865.000  90.0000"
      ]
     },
     "metadata": {},
     "output_type": "display_data"
    }
   ],
   "source": [
    "library(tidyverse)  \n",
    "\n",
    "cars_summary <- cars %>%                            \n",
    "  group_by(Make) %>%                                \n",
    "  summarise(across(c(Volume, Weight, CO2), mean, na.rm = TRUE)) %>%  \n",
    "  arrange(desc(Volume))                            \n",
    "\n",
    "cars_summary"
   ]
  },
  {
   "cell_type": "code",
   "execution_count": 34,
   "id": "edd86916-f136-4c90-b410-7006668f63e6",
   "metadata": {},
   "outputs": [
    {
     "data": {
      "text/html": [
       "<table class=\"dataframe\">\n",
       "<caption>A tibble: 17 × 4</caption>\n",
       "<thead>\n",
       "\t<tr><th scope=col>Make</th><th scope=col>Volume</th><th scope=col>Weight</th><th scope=col>CO2</th></tr>\n",
       "\t<tr><th scope=col>&lt;chr&gt;</th><th scope=col>&lt;dbl&gt;</th><th scope=col>&lt;dbl&gt;</th><th scope=col>&lt;dbl&gt;</th></tr>\n",
       "</thead>\n",
       "<tbody>\n",
       "\t<tr><td>Mazda     </td><td>2200.000</td><td>1280.000</td><td>104.0000</td></tr>\n",
       "\t<tr><td>Mercedes  </td><td>1940.000</td><td>1439.000</td><td>105.6000</td></tr>\n",
       "\t<tr><td>Audi      </td><td>1866.667</td><td>1455.000</td><td>105.6667</td></tr>\n",
       "\t<tr><td>Volvo     </td><td>1866.667</td><td>1561.333</td><td>108.3333</td></tr>\n",
       "\t<tr><td>BMW       </td><td>1733.333</td><td>1486.667</td><td>107.0000</td></tr>\n",
       "\t<tr><td>Opel      </td><td>1733.333</td><td>1387.667</td><td>101.6667</td></tr>\n",
       "\t<tr><td>Honda     </td><td>1600.000</td><td>1252.000</td><td> 94.0000</td></tr>\n",
       "\t<tr><td>Hundai    </td><td>1600.000</td><td>1326.000</td><td> 97.0000</td></tr>\n",
       "\t<tr><td>Ford      </td><td>1540.000</td><td>1274.200</td><td>100.0000</td></tr>\n",
       "\t<tr><td>Mini      </td><td>1500.000</td><td>1140.000</td><td>105.0000</td></tr>\n",
       "\t<tr><td>Skoda     </td><td>1400.000</td><td>1143.000</td><td> 97.0000</td></tr>\n",
       "\t<tr><td>Suzuki    </td><td>1300.000</td><td> 990.000</td><td>101.0000</td></tr>\n",
       "\t<tr><td>Mitsubishi</td><td>1200.000</td><td>1160.000</td><td> 95.0000</td></tr>\n",
       "\t<tr><td>Hyundai   </td><td>1100.000</td><td> 980.000</td><td> 99.0000</td></tr>\n",
       "\t<tr><td>Toyoty    </td><td>1000.000</td><td> 790.000</td><td> 99.0000</td></tr>\n",
       "\t<tr><td>VW        </td><td>1000.000</td><td> 929.000</td><td>105.0000</td></tr>\n",
       "\t<tr><td>Fiat      </td><td> 900.000</td><td> 865.000</td><td> 90.0000</td></tr>\n",
       "</tbody>\n",
       "</table>\n"
      ],
      "text/latex": [
       "A tibble: 17 × 4\n",
       "\\begin{tabular}{llll}\n",
       " Make & Volume & Weight & CO2\\\\\n",
       " <chr> & <dbl> & <dbl> & <dbl>\\\\\n",
       "\\hline\n",
       "\t Mazda      & 2200.000 & 1280.000 & 104.0000\\\\\n",
       "\t Mercedes   & 1940.000 & 1439.000 & 105.6000\\\\\n",
       "\t Audi       & 1866.667 & 1455.000 & 105.6667\\\\\n",
       "\t Volvo      & 1866.667 & 1561.333 & 108.3333\\\\\n",
       "\t BMW        & 1733.333 & 1486.667 & 107.0000\\\\\n",
       "\t Opel       & 1733.333 & 1387.667 & 101.6667\\\\\n",
       "\t Honda      & 1600.000 & 1252.000 &  94.0000\\\\\n",
       "\t Hundai     & 1600.000 & 1326.000 &  97.0000\\\\\n",
       "\t Ford       & 1540.000 & 1274.200 & 100.0000\\\\\n",
       "\t Mini       & 1500.000 & 1140.000 & 105.0000\\\\\n",
       "\t Skoda      & 1400.000 & 1143.000 &  97.0000\\\\\n",
       "\t Suzuki     & 1300.000 &  990.000 & 101.0000\\\\\n",
       "\t Mitsubishi & 1200.000 & 1160.000 &  95.0000\\\\\n",
       "\t Hyundai    & 1100.000 &  980.000 &  99.0000\\\\\n",
       "\t Toyoty     & 1000.000 &  790.000 &  99.0000\\\\\n",
       "\t VW         & 1000.000 &  929.000 & 105.0000\\\\\n",
       "\t Fiat       &  900.000 &  865.000 &  90.0000\\\\\n",
       "\\end{tabular}\n"
      ],
      "text/markdown": [
       "\n",
       "A tibble: 17 × 4\n",
       "\n",
       "| Make &lt;chr&gt; | Volume &lt;dbl&gt; | Weight &lt;dbl&gt; | CO2 &lt;dbl&gt; |\n",
       "|---|---|---|---|\n",
       "| Mazda      | 2200.000 | 1280.000 | 104.0000 |\n",
       "| Mercedes   | 1940.000 | 1439.000 | 105.6000 |\n",
       "| Audi       | 1866.667 | 1455.000 | 105.6667 |\n",
       "| Volvo      | 1866.667 | 1561.333 | 108.3333 |\n",
       "| BMW        | 1733.333 | 1486.667 | 107.0000 |\n",
       "| Opel       | 1733.333 | 1387.667 | 101.6667 |\n",
       "| Honda      | 1600.000 | 1252.000 |  94.0000 |\n",
       "| Hundai     | 1600.000 | 1326.000 |  97.0000 |\n",
       "| Ford       | 1540.000 | 1274.200 | 100.0000 |\n",
       "| Mini       | 1500.000 | 1140.000 | 105.0000 |\n",
       "| Skoda      | 1400.000 | 1143.000 |  97.0000 |\n",
       "| Suzuki     | 1300.000 |  990.000 | 101.0000 |\n",
       "| Mitsubishi | 1200.000 | 1160.000 |  95.0000 |\n",
       "| Hyundai    | 1100.000 |  980.000 |  99.0000 |\n",
       "| Toyoty     | 1000.000 |  790.000 |  99.0000 |\n",
       "| VW         | 1000.000 |  929.000 | 105.0000 |\n",
       "| Fiat       |  900.000 |  865.000 |  90.0000 |\n",
       "\n"
      ],
      "text/plain": [
       "   Make       Volume   Weight   CO2     \n",
       "1  Mazda      2200.000 1280.000 104.0000\n",
       "2  Mercedes   1940.000 1439.000 105.6000\n",
       "3  Audi       1866.667 1455.000 105.6667\n",
       "4  Volvo      1866.667 1561.333 108.3333\n",
       "5  BMW        1733.333 1486.667 107.0000\n",
       "6  Opel       1733.333 1387.667 101.6667\n",
       "7  Honda      1600.000 1252.000  94.0000\n",
       "8  Hundai     1600.000 1326.000  97.0000\n",
       "9  Ford       1540.000 1274.200 100.0000\n",
       "10 Mini       1500.000 1140.000 105.0000\n",
       "11 Skoda      1400.000 1143.000  97.0000\n",
       "12 Suzuki     1300.000  990.000 101.0000\n",
       "13 Mitsubishi 1200.000 1160.000  95.0000\n",
       "14 Hyundai    1100.000  980.000  99.0000\n",
       "15 Toyoty     1000.000  790.000  99.0000\n",
       "16 VW         1000.000  929.000 105.0000\n",
       "17 Fiat        900.000  865.000  90.0000"
      ]
     },
     "metadata": {},
     "output_type": "display_data"
    }
   ],
   "source": [
    "library(tidyverse)\n",
    "\n",
    "cars_summary <- cars %>%\n",
    "  group_by(Make) %>%\n",
    "  summarise(across(c(Volume, Weight, CO2), \\(x) mean(x, na.rm = TRUE))) %>%\n",
    "  arrange(desc(Volume))\n",
    "\n",
    "cars_summary"
   ]
  },
  {
   "cell_type": "code",
   "execution_count": 36,
   "id": "7f8f35e2-7e3f-4236-8f64-9d97838289d0",
   "metadata": {},
   "outputs": [
    {
     "ename": "ERROR",
     "evalue": "Error in parse(text = input): <text>:1:30: unexpected 'next'\n1: fibonacci <- function(start, next\n                                 ^\n",
     "output_type": "error",
     "traceback": [
      "Error in parse(text = input): <text>:1:30: unexpected 'next'\n1: fibonacci <- function(start, next\n                                 ^\nTraceback:\n"
     ]
    }
   ],
   "source": [
    "fibonacci <- function(start, ){\n",
    "val <- start;\n",
    "function(){\n",
    "old_val <- val;\n",
    "val <<- val + next;\n",
    "old_val;\n",
    "}\n",
    "}\n",
    "fibonacci_trial <- fibonacci(0,1);\n",
    "fibonacci_trial()"
   ]
  },
  {
   "cell_type": "code",
   "execution_count": null,
   "id": "43a8a881-904c-4932-b114-ca28ed5629ae",
   "metadata": {},
   "outputs": [],
   "source": []
  },
  {
   "cell_type": "code",
   "execution_count": 37,
   "id": "1cb9cf8a-3306-4181-af82-b1db22bac40c",
   "metadata": {},
   "outputs": [
    {
     "data": {
      "text/html": [
       "0"
      ],
      "text/latex": [
       "0"
      ],
      "text/markdown": [
       "0"
      ],
      "text/plain": [
       "[1] 0"
      ]
     },
     "metadata": {},
     "output_type": "display_data"
    }
   ],
   "source": [
    "fibonacci <- function(start, following){\n",
    "val <- start;\n",
    "function(){\n",
    "old_val <- val;\n",
    "val <<- val + following;\n",
    "old_val;\n",
    "}\n",
    "}\n",
    "fibonacci_trial <- fibonacci(0,1);\n",
    "fibonacci_trial()"
   ]
  },
  {
   "cell_type": "code",
   "execution_count": 40,
   "id": "910b7fc9-6901-403d-8338-ee15aa1e56bf",
   "metadata": {},
   "outputs": [
    {
     "ename": "ERROR",
     "evalue": "Error in parse(text = input): <text>:3:18: unexpected numeric constant\n2: val <- start;\n3: following <- int 1\n                    ^\n",
     "output_type": "error",
     "traceback": [
      "Error in parse(text = input): <text>:3:18: unexpected numeric constant\n2: val <- start;\n3: following <- int 1\n                    ^\nTraceback:\n"
     ]
    }
   ],
   "source": [
    "fibonacci <- function(start, following){\n",
    "val <- start;\n",
    "function(){\n",
    "old_val <- val;\n",
    "val <<- val + following;\n",
    "following <<- old_val\n",
    "old_val;\n",
    "}\n",
    "}\n",
    "fibonacci_trial <- fibonacci(0,1);\n",
    "fibonacci_trial()\n",
    "fibonacci_trial()\n",
    "fibonacci_trial()\n",
    "fibonacci_trial()\n",
    "fibonacci_trial()\n",
    "fibonacci_trial()\n",
    "fibonacci_trial()\n",
    "fibonacci_trial()"
   ]
  },
  {
   "cell_type": "code",
   "execution_count": 41,
   "id": "b9898fcd-6345-4ca7-94d1-602fd5874eb3",
   "metadata": {},
   "outputs": [
    {
     "data": {
      "text/html": [
       "0"
      ],
      "text/latex": [
       "0"
      ],
      "text/markdown": [
       "0"
      ],
      "text/plain": [
       "[1] 0"
      ]
     },
     "metadata": {},
     "output_type": "display_data"
    },
    {
     "data": {
      "text/html": [
       "1"
      ],
      "text/latex": [
       "1"
      ],
      "text/markdown": [
       "1"
      ],
      "text/plain": [
       "[1] 1"
      ]
     },
     "metadata": {},
     "output_type": "display_data"
    },
    {
     "data": {
      "text/html": [
       "1"
      ],
      "text/latex": [
       "1"
      ],
      "text/markdown": [
       "1"
      ],
      "text/plain": [
       "[1] 1"
      ]
     },
     "metadata": {},
     "output_type": "display_data"
    },
    {
     "data": {
      "text/html": [
       "2"
      ],
      "text/latex": [
       "2"
      ],
      "text/markdown": [
       "2"
      ],
      "text/plain": [
       "[1] 2"
      ]
     },
     "metadata": {},
     "output_type": "display_data"
    },
    {
     "data": {
      "text/html": [
       "3"
      ],
      "text/latex": [
       "3"
      ],
      "text/markdown": [
       "3"
      ],
      "text/plain": [
       "[1] 3"
      ]
     },
     "metadata": {},
     "output_type": "display_data"
    },
    {
     "data": {
      "text/html": [
       "5"
      ],
      "text/latex": [
       "5"
      ],
      "text/markdown": [
       "5"
      ],
      "text/plain": [
       "[1] 5"
      ]
     },
     "metadata": {},
     "output_type": "display_data"
    },
    {
     "data": {
      "text/html": [
       "8"
      ],
      "text/latex": [
       "8"
      ],
      "text/markdown": [
       "8"
      ],
      "text/plain": [
       "[1] 8"
      ]
     },
     "metadata": {},
     "output_type": "display_data"
    },
    {
     "data": {
      "text/html": [
       "13"
      ],
      "text/latex": [
       "13"
      ],
      "text/markdown": [
       "13"
      ],
      "text/plain": [
       "[1] 13"
      ]
     },
     "metadata": {},
     "output_type": "display_data"
    }
   ],
   "source": [
    "fibonacci <- function(start, following){\n",
    "val <- start;\n",
    "function(){\n",
    "old_val <- val;\n",
    "val <<- val + following;\n",
    "following <<- old_val\n",
    "old_val;\n",
    "}\n",
    "}\n",
    "fibonacci_trial <- fibonacci(0,1);\n",
    "fibonacci_trial()\n",
    "fibonacci_trial()\n",
    "fibonacci_trial()\n",
    "fibonacci_trial()\n",
    "fibonacci_trial()\n",
    "fibonacci_trial()\n",
    "fibonacci_trial()\n",
    "fibonacci_trial()"
   ]
  },
  {
   "cell_type": "code",
   "execution_count": null,
   "id": "d8978fb8-6672-4138-b2f6-a49ebb08f4be",
   "metadata": {},
   "outputs": [],
   "source": []
  }
 ],
 "metadata": {
  "kernelspec": {
   "display_name": "R",
   "language": "R",
   "name": "ir"
  },
  "language_info": {
   "codemirror_mode": "r",
   "file_extension": ".r",
   "mimetype": "text/x-r-source",
   "name": "R",
   "pygments_lexer": "r",
   "version": "4.5.1"
  }
 },
 "nbformat": 4,
 "nbformat_minor": 5
}
