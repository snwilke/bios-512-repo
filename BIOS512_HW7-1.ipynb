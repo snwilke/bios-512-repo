{
 "cells": [
  {
   "cell_type": "markdown",
   "id": "766a4c53-5596-4e39-9082-8e97c8e59c41",
   "metadata": {},
   "source": [
    "# Homework 7\n",
    "This homework is based on the advanced Git lectures. "
   ]
  },
  {
   "cell_type": "markdown",
   "id": "bbb6e943-d49a-4d2e-81f3-59c2d1a3be31",
   "metadata": {},
   "source": [
    "## Question 1\n",
    "#### What is the holy trinity of Git? (Just name the parts.)"
   ]
  },
  {
   "cell_type": "code",
   "execution_count": null,
   "id": "6ffaabc2-cc95-4c2c-8628-1baf9658906e",
   "metadata": {},
   "outputs": [],
   "source": [
    "# the tree, the stage, the head."
   ]
  },
  {
   "cell_type": "markdown",
   "id": "47bc27c0-290e-4e94-a071-a37ff613a7c8",
   "metadata": {},
   "source": [
    "## Question 2\n",
    "#### Explain how patches relate to the idea of committing a change to the history of your code?"
   ]
  },
  {
   "cell_type": "code",
   "execution_count": null,
   "id": "621115ed-fe01-47f9-8d9b-e1dfa88ff52b",
   "metadata": {},
   "outputs": [],
   "source": [
    "# A patch is a representation of the differences between file versions. When you commit, Git effectively \n",
    "# records those differences into the project’s history, making the change permanent but trackable."
   ]
  },
  {
   "cell_type": "markdown",
   "id": "9aa99e0b-8fbe-4ccc-a728-b39b1fda153c",
   "metadata": {},
   "source": [
    "## Question 3\n",
    "#### What is the difference between a branch and a fork?"
   ]
  },
  {
   "cell_type": "code",
   "execution_count": null,
   "id": "5250f359-2ffe-484d-814b-84c784ca51ed",
   "metadata": {},
   "outputs": [],
   "source": [
    "#Branch: A pointer to a commit within the same repository, used for parallel development.\n",
    "# Fork: A full copy of a repository, allowing independent development without affecting the original project."
   ]
  },
  {
   "cell_type": "markdown",
   "id": "c6ac98c7-e4ea-4274-a88d-398cb739fab9",
   "metadata": {},
   "source": [
    "## Question 4\n",
    "#### How are diff and patch related? What’s the difference?"
   ]
  },
  {
   "cell_type": "code",
   "execution_count": null,
   "id": "b984d722-716a-4a80-bcf0-2cc736f428ee",
   "metadata": {},
   "outputs": [],
   "source": [
    "# diff: Shows the line-by-line differences between two file versions.\n",
    "# patch: A file created from a diff that can be applied to another copy of the codebase to replicate the same changes."
   ]
  },
  {
   "cell_type": "markdown",
   "id": "02988321-54d5-4086-a62f-d6f7a5961c22",
   "metadata": {},
   "source": [
    "## Question 5\n",
    "#### See the diagram below.\n",
    "```\n",
    "alice            *-*-*-*-d-e     \n",
    "bob              *-*-*-*-a-b-c\n",
    "origin/main      *-*-*-*-a-b-c\n",
    "```\n",
    "#### a) What part of the Git trininty does each line represent?\n",
    "#### b) What would the result be if Alice performed a rebase? Edit the diagram. What would she type in the terminal to rebase, then push?\n",
    "#### c) What would the result be if Alice performed a merge? Edit the diagram. What would she type in the terminal to merge, then push?\n",
    "#### d) Which would be the better option (rebase vs. merge)? Why?"
   ]
  },
  {
   "cell_type": "code",
   "execution_count": null,
   "id": "61299a26-3b86-4ba4-bd39-7e98562e62a5",
   "metadata": {},
   "outputs": [],
   "source": [
    "# A) I THINK: alice and bob represent the tree because they have their own working copies,\n",
    "# and origin/main reperesents the head. the stage might be the individual differences alice and bob have made if\n",
    "# they're being prepared for the next commit. "
   ]
  },
  {
   "cell_type": "code",
   "execution_count": null,
   "id": "bd3dfbe9-9a27-4a36-887e-e161e8f9d53a",
   "metadata": {},
   "outputs": [],
   "source": [
    "# B) alice            *-*-*-*-a-b-c-d′-e′     \n",
    "#    bob              *-*-*-*-a-b-c\n",
    "#    origin/main      *-*-*-*-a-b-c\n",
    "# commands:\n",
    "# git switch alice\n",
    "# git fetch origin\n",
    "# git rebase origin/main\n",
    "# git push --force-with-lease origin alice"
   ]
  },
  {
   "cell_type": "code",
   "execution_count": null,
   "id": "2783ccc2-e4a9-4fb6-89ef-f59c25cda7bc",
   "metadata": {},
   "outputs": [],
   "source": [
    "# C) alice            *-*-*-*-d-e-a-b-c   \n",
    "#    bob              *-*-*-*-a-b-c\n",
    "#    origin/main      *-*-*-*-a-b-c\n",
    "# commands:\n",
    "# git switch alice\n",
    "# git fetch origin\n",
    "# git merge origin/main\n",
    "# git push origin alice"
   ]
  },
  {
   "cell_type": "code",
   "execution_count": null,
   "id": "a297276a-b9d0-4c28-923e-22717f9ca4a8",
   "metadata": {},
   "outputs": [],
   "source": [
    "# its always better to rebase, because firstly merging can be seen as kind of disrespectful, and secondly, \n",
    "# it marks your files as prime files so you make sure to check it works with the commits you didn't have already. "
   ]
  },
  {
   "cell_type": "markdown",
   "id": "65b5eb8a-cee0-4a97-b89c-8746c37669ea",
   "metadata": {},
   "source": [
    "## Question 6\n",
    "#### Match the command/vocab word to the description.\n",
    "You can edit the table!\n",
    "\n",
    "| Command / Vocab     | Answer | Description |\n",
    "|---------------------|------------|------------|\n",
    "| git stash          |  | B.  Takes any changes that haven't been committed and puts them in a dust bin history |\n",
    "| git push           |  | J.  Pushes the new commits to the main branch |\n",
    "| git clone          |  | N.  Makes a copy of an existing repo at in a new directory at another location |\n",
    "| git commit         |  | M.  Saves file changes to the main branch |\n",
    "| git log            |  | A.  Gives project |\n",
    "| git add -i         | | K.  Interactive staging! |\n",
    "| git rebase         |  | P.  Combines branches by moving commits onto the tip of another branch, creating a linear history |\n",
    "| git init           |  | Q. Creates a new git repository |\n",
    "| git checkout       |  | E.  Moves something from the branch to the working copy |\n",
    "| git status         |  | F.  Lists which files are staged, unstaged, and untracked |\n",
    "| git diff           |  | O.  Compares current, unsaved changes to the main branch |\n",
    "| git merge          |  | H.  Combines two branches together in a way that is not ideal for your collaborators |\n",
    "| git add            |  | I.  Adds changes from the working directory to the staging area |\n",
    "| git pull           |  | D.  Retrieves any commits on the remote branch that you don’t yet have locally and integrates them into your current branch |\n",
    "| git show           |  | G.  Displays information about a specific commit |\n",
    "| git blame          |  | C.  Shows who last modified each line of a file and in which commit |\n",
    "| .gitignore         |  | L.  Text file that contains names of files Git should not track |"
   ]
  },
  {
   "cell_type": "markdown",
   "id": "36663f18-7e8a-4400-86ef-1cbda6b508c1",
   "metadata": {},
   "source": [
    "## Question 7\n",
    "#### Walk me through how you would do interactive staging.\n",
    "#### a) Firstly, what situation would interactive staging be useful in?\n",
    "#### b) What command(s) help you prepare for what you'll see while interactive staging? \n",
    "*Hint*: Check the TA notes.\n",
    "#### b) What git command would you use to start interactive staging?\n",
    "\n",
    "#### c) On the text-based interactive menu, what option do you use?\n",
    "\n",
    "#### d) After pressing that option, how do you select the file you want to stage?\n",
    "\n",
    "#### e) What option do you type if you do not want to stage a hunk?\n",
    "\n",
    "#### f) Once you get to a hunk you want to stage, what do you do?\n",
    "\n",
    "#### g) What if we have more hunks we want to stage?\n"
   ]
  },
  {
   "cell_type": "code",
   "execution_count": null,
   "id": "8e6f18c6-23ca-48a2-adaf-af0fa8025c79",
   "metadata": {},
   "outputs": [],
   "source": [
    "# When a file contains multiple unrelated changes and you want to commit only some hunks."
   ]
  },
  {
   "cell_type": "code",
   "execution_count": null,
   "id": "5870a789-91e3-42bb-b47d-6fe3fd1b4748",
   "metadata": {},
   "outputs": [],
   "source": [
    "# git status, git diff "
   ]
  },
  {
   "cell_type": "code",
   "execution_count": null,
   "id": "38ecb14f-3ba0-42a7-a033-357242b4d9ab",
   "metadata": {},
   "outputs": [],
   "source": [
    "# git add -i → then choose p (patch)."
   ]
  },
  {
   "cell_type": "code",
   "execution_count": null,
   "id": "3ecc7b67-277a-4c4f-a8a1-12975a237980",
   "metadata": {},
   "outputs": [],
   "source": [
    "# p = patch"
   ]
  },
  {
   "cell_type": "code",
   "execution_count": null,
   "id": "91a6c097-227f-4553-b654-6d9804e47e84",
   "metadata": {},
   "outputs": [],
   "source": [
    "# Type the number of the file shown in the list (e.g., 3 + Enter)."
   ]
  },
  {
   "cell_type": "code",
   "execution_count": null,
   "id": "c8b3c66f-a38a-4b4c-b863-4390455802a0",
   "metadata": {},
   "outputs": [],
   "source": [
    "# n = no "
   ]
  },
  {
   "cell_type": "code",
   "execution_count": null,
   "id": "966edb69-8191-42ec-90bf-5fddb3a04c61",
   "metadata": {},
   "outputs": [],
   "source": [
    "# y = yes"
   ]
  },
  {
   "cell_type": "code",
   "execution_count": null,
   "id": "a7acd08c-e873-4b67-b716-4d32db0225dd",
   "metadata": {},
   "outputs": [],
   "source": [
    "# Keep answering y/n for each hunk; use a (stage all remaining in this file) or q to quit when done, then git \n",
    "# commit."
   ]
  }
 ],
 "metadata": {
  "kernelspec": {
   "display_name": "Python 3 (ipykernel)",
   "language": "python",
   "name": "python3"
  },
  "language_info": {
   "codemirror_mode": {
    "name": "ipython",
    "version": 3
   },
   "file_extension": ".py",
   "mimetype": "text/x-python",
   "name": "python",
   "nbconvert_exporter": "python",
   "pygments_lexer": "ipython3",
   "version": "3.10.16"
  }
 },
 "nbformat": 4,
 "nbformat_minor": 5
}
