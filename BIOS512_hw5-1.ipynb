{
 "cells": [
  {
   "cell_type": "markdown",
   "id": "a9fffe83-2e65-45b4-a7ae-eba928112210",
   "metadata": {},
   "source": [
    "# Homework 5\n",
    "This homework requires `wine.csv`, and the `tidyverse` and `Rtsne` packages. Install them if you haven't already!  \n",
    "See the following link for how to add new packages to Binder: https://github.com/rjenki/BIOS512?tab=readme-ov-file#adding-packages-to-installr-later.   \n",
    "**For readability and easier processing, please make each question part a different code chunk.**"
   ]
  },
  {
   "cell_type": "code",
   "execution_count": 1,
   "id": "8cf42c8f-5d46-455a-85bd-2df6a53141d3",
   "metadata": {},
   "outputs": [
    {
     "name": "stderr",
     "output_type": "stream",
     "text": [
      "── \u001b[1mAttaching core tidyverse packages\u001b[22m ──────────────────────── tidyverse 2.0.0 ──\n",
      "\u001b[32m✔\u001b[39m \u001b[34mdplyr    \u001b[39m 1.1.2     \u001b[32m✔\u001b[39m \u001b[34mreadr    \u001b[39m 2.1.4\n",
      "\u001b[32m✔\u001b[39m \u001b[34mforcats  \u001b[39m 1.0.0     \u001b[32m✔\u001b[39m \u001b[34mstringr  \u001b[39m 1.5.0\n",
      "\u001b[32m✔\u001b[39m \u001b[34mggplot2  \u001b[39m 3.4.2     \u001b[32m✔\u001b[39m \u001b[34mtibble   \u001b[39m 3.2.1\n",
      "\u001b[32m✔\u001b[39m \u001b[34mlubridate\u001b[39m 1.9.2     \u001b[32m✔\u001b[39m \u001b[34mtidyr    \u001b[39m 1.3.0\n",
      "\u001b[32m✔\u001b[39m \u001b[34mpurrr    \u001b[39m 1.0.1     \n",
      "── \u001b[1mConflicts\u001b[22m ────────────────────────────────────────── tidyverse_conflicts() ──\n",
      "\u001b[31m✖\u001b[39m \u001b[34mdplyr\u001b[39m::\u001b[32mfilter()\u001b[39m masks \u001b[34mstats\u001b[39m::filter()\n",
      "\u001b[31m✖\u001b[39m \u001b[34mdplyr\u001b[39m::\u001b[32mlag()\u001b[39m    masks \u001b[34mstats\u001b[39m::lag()\n",
      "\u001b[36mℹ\u001b[39m Use the conflicted package (\u001b[3m\u001b[34m<http://conflicted.r-lib.org/>\u001b[39m\u001b[23m) to force all conflicts to become errors\n"
     ]
    }
   ],
   "source": [
    "library(tidyverse)\n",
    "library(Rtsne)\n",
    "library(ggplot2)"
   ]
  },
  {
   "cell_type": "markdown",
   "id": "02234287-abef-4f5e-8045-b97a1c684af7",
   "metadata": {},
   "source": [
    "## Question 1  \n",
    "\n",
    "#### a) Import your data.  \n",
    "#### b) Check out the columns present using one of R's data frame summary.  \n",
    "#### c) Get summary statistics on the numeric variables.  "
   ]
  },
  {
   "cell_type": "code",
   "execution_count": 2,
   "id": "b04abe50-4756-4895-967a-828aaca94d26",
   "metadata": {},
   "outputs": [
    {
     "name": "stderr",
     "output_type": "stream",
     "text": [
      "\u001b[1mRows: \u001b[22m\u001b[34m178\u001b[39m \u001b[1mColumns: \u001b[22m\u001b[34m14\u001b[39m\n",
      "\u001b[36m──\u001b[39m \u001b[1mColumn specification\u001b[22m \u001b[36m────────────────────────────────────────────────────────\u001b[39m\n",
      "\u001b[1mDelimiter:\u001b[22m \",\"\n",
      "\u001b[32mdbl\u001b[39m (14): Alcohol, Malicacid, Ash, Alcalinity_of_ash, Magnesium, Total_pheno...\n",
      "\n",
      "\u001b[36mℹ\u001b[39m Use `spec()` to retrieve the full column specification for this data.\n",
      "\u001b[36mℹ\u001b[39m Specify the column types or set `show_col_types = FALSE` to quiet this message.\n"
     ]
    },
    {
     "name": "stdout",
     "output_type": "stream",
     "text": [
      "Rows: 178\n",
      "Columns: 14\n",
      "$ Alcohol                        \u001b[3m\u001b[90m<dbl>\u001b[39m\u001b[23m 14.23, 13.20, 13.16, 14.37, 13.24, 14.2…\n",
      "$ Malicacid                      \u001b[3m\u001b[90m<dbl>\u001b[39m\u001b[23m 1.71, 1.78, 2.36, 1.95, 2.59, 1.76, 1.8…\n",
      "$ Ash                            \u001b[3m\u001b[90m<dbl>\u001b[39m\u001b[23m 2.43, 2.14, 2.67, 2.50, 2.87, 2.45, 2.4…\n",
      "$ Alcalinity_of_ash              \u001b[3m\u001b[90m<dbl>\u001b[39m\u001b[23m 15.6, 11.2, 18.6, 16.8, 21.0, 15.2, 14.…\n",
      "$ Magnesium                      \u001b[3m\u001b[90m<dbl>\u001b[39m\u001b[23m 127, 100, 101, 113, 118, 112, 96, 121, …\n",
      "$ Total_phenols                  \u001b[3m\u001b[90m<dbl>\u001b[39m\u001b[23m 2.80, 2.65, 2.80, 3.85, 2.80, 3.27, 2.5…\n",
      "$ Flavanoids                     \u001b[3m\u001b[90m<dbl>\u001b[39m\u001b[23m 3.06, 2.76, 3.24, 3.49, 2.69, 3.39, 2.5…\n",
      "$ Nonflavanoid_phenols           \u001b[3m\u001b[90m<dbl>\u001b[39m\u001b[23m 0.28, 0.26, 0.30, 0.24, 0.39, 0.34, 0.3…\n",
      "$ Proanthocyanins                \u001b[3m\u001b[90m<dbl>\u001b[39m\u001b[23m 2.29, 1.28, 2.81, 2.18, 1.82, 1.97, 1.9…\n",
      "$ Color_intensity                \u001b[3m\u001b[90m<dbl>\u001b[39m\u001b[23m 5.64, 4.38, 5.68, 7.80, 4.32, 6.75, 5.2…\n",
      "$ Hue                            \u001b[3m\u001b[90m<dbl>\u001b[39m\u001b[23m 1.04, 1.05, 1.03, 0.86, 1.04, 1.05, 1.0…\n",
      "$ `0D280_0D315_of_diluted_wines` \u001b[3m\u001b[90m<dbl>\u001b[39m\u001b[23m 3.92, 3.40, 3.17, 3.45, 2.93, 2.85, 3.5…\n",
      "$ Proline                        \u001b[3m\u001b[90m<dbl>\u001b[39m\u001b[23m 1065, 1050, 1185, 1480, 735, 1450, 1290…\n",
      "$ class                          \u001b[3m\u001b[90m<dbl>\u001b[39m\u001b[23m 1, 1, 1, 1, 1, 1, 1, 1, 1, 1, 1, 1, 1, …\n"
     ]
    },
    {
     "data": {
      "text/plain": [
       "    Alcohol        Malicacid          Ash        Alcalinity_of_ash\n",
       " Min.   :11.03   Min.   :0.740   Min.   :1.360   Min.   :10.60    \n",
       " 1st Qu.:12.36   1st Qu.:1.603   1st Qu.:2.210   1st Qu.:17.20    \n",
       " Median :13.05   Median :1.865   Median :2.360   Median :19.50    \n",
       " Mean   :13.00   Mean   :2.336   Mean   :2.367   Mean   :19.49    \n",
       " 3rd Qu.:13.68   3rd Qu.:3.083   3rd Qu.:2.558   3rd Qu.:21.50    \n",
       " Max.   :14.83   Max.   :5.800   Max.   :3.230   Max.   :30.00    \n",
       "   Magnesium      Total_phenols     Flavanoids    Nonflavanoid_phenols\n",
       " Min.   : 70.00   Min.   :0.980   Min.   :0.340   Min.   :0.1300      \n",
       " 1st Qu.: 88.00   1st Qu.:1.742   1st Qu.:1.205   1st Qu.:0.2700      \n",
       " Median : 98.00   Median :2.355   Median :2.135   Median :0.3400      \n",
       " Mean   : 99.74   Mean   :2.295   Mean   :2.029   Mean   :0.3619      \n",
       " 3rd Qu.:107.00   3rd Qu.:2.800   3rd Qu.:2.875   3rd Qu.:0.4375      \n",
       " Max.   :162.00   Max.   :3.880   Max.   :5.080   Max.   :0.6600      \n",
       " Proanthocyanins Color_intensity       Hue         0D280_0D315_of_diluted_wines\n",
       " Min.   :0.410   Min.   : 1.280   Min.   :0.4800   Min.   :1.270               \n",
       " 1st Qu.:1.250   1st Qu.: 3.220   1st Qu.:0.7825   1st Qu.:1.938               \n",
       " Median :1.555   Median : 4.690   Median :0.9650   Median :2.780               \n",
       " Mean   :1.591   Mean   : 5.058   Mean   :0.9574   Mean   :2.612               \n",
       " 3rd Qu.:1.950   3rd Qu.: 6.200   3rd Qu.:1.1200   3rd Qu.:3.170               \n",
       " Max.   :3.580   Max.   :13.000   Max.   :1.7100   Max.   :4.000               \n",
       "    Proline           class      \n",
       " Min.   : 278.0   Min.   :1.000  \n",
       " 1st Qu.: 500.5   1st Qu.:1.000  \n",
       " Median : 673.5   Median :2.000  \n",
       " Mean   : 746.9   Mean   :1.938  \n",
       " 3rd Qu.: 985.0   3rd Qu.:3.000  \n",
       " Max.   :1680.0   Max.   :3.000  "
      ]
     },
     "metadata": {},
     "output_type": "display_data"
    }
   ],
   "source": [
    "wine <- read_csv(\"wine.csv\")\n",
    "glimpse(wine)\n",
    "wine %>% \n",
    "  select(where(is.numeric)) %>% \n",
    "  summary()"
   ]
  },
  {
   "cell_type": "markdown",
   "id": "8b014e07-ef4f-40f4-89f0-723538811150",
   "metadata": {},
   "source": [
    "## Question 2\n",
    "\n",
    "#### a) Scale and center your data  \n",
    "*Hint:* Use a `mutate()` statement across all columns **except class** with `function(x) as.numeric(scale(x))`.\n",
    "\n",
    "#### b) Based on what you saw in the summary statistic table from the imported data, why would scaling and centering this data be helpful before we perform PCA?\n"
   ]
  },
  {
   "cell_type": "code",
   "execution_count": 3,
   "id": "bde5ddb0-5e7a-4cb0-b549-72da0b20030a",
   "metadata": {},
   "outputs": [],
   "source": [
    "wine_scaled <- wine %>%\n",
    "  mutate(across(-class, ~ as.numeric(scale(.x))))\n",
    "\n",
    "# 2b) Some variables in the wine data are on a much larger scale than others. Since PCA looks at variance, \n",
    "# the big-range variables would dominate the analysis and hide the effect of smaller-range ones without scaling.\n",
    "# Centering and scaling allows PCA to reflect real patterns in the data, not just differences\n",
    "# in unites or magnitudes."
   ]
  },
  {
   "cell_type": "markdown",
   "id": "087a7186-b2e5-42a1-bfab-ee2945878553",
   "metadata": {},
   "source": [
    "## Question 3\n",
    "\n",
    "#### a) Perform PCA\n",
    "\n",
    "#### b) How much of the total variance is explained by PC1? PC2? What function do we use to see that information?\n",
    "\n",
    "#### c) Why are we doing PCA first?\n",
    "\n",
    "#### d) What is the rotation matrix? Print it explicitly.  \n",
    "*Hint:* Check the notes for a simple way to do this!\n",
    "\n",
    "#### e) Plot PC1 vs. PC2, using the wine class as labels for coloring.  \n",
    "*Hint:* You'll first need a data set with only PC1 and PC2, then add back the class variable from your scaled data set with a `mutate()` statement. Then, you can use `color = factor(class)` in your `ggplot` statement.\n",
    "\n",
    "#### f) What do you see after plotting PC1 vs. PC2? What does this mean in context of wine classes?\n",
    "\n",
    "#### g) Give an example of data where PCA would fail. You can describe the data or do a simulation.  \n",
    "*Hint:* Our notes have a few examples!\n",
    "\n",
    "#### h) Explain the difference between vector space and manifold, and how these terms apply to what we did/will do with T-SNE.\n"
   ]
  },
  {
   "cell_type": "markdown",
   "id": "ec52868c-a2a4-412a-a621-bbe2d4d5020e",
   "metadata": {},
   "source": [
    "## Question 4\n",
    "#### a) Perform T-SNE\n",
    "Set `seed = 123`.  \n",
    "*Hint:* Subset your PCA results to PC1–PC10, add the class variable back in, remove duplicates, then perform T-SNE.\n",
    "\n",
    "#### b) Plot the results in 2D\n",
    "*Hint:* Convert your T-SNE results to a tibble and add back the class variable from your scaled data set using a `mutate()` statement. Then, you can use `color = factor(class)` in your `ggplot` statement.\n",
    "\n",
    "#### c) Why didn't we stop at PCA?\n",
    "\n",
    "\n",
    "#### d) What other types of data does this workflow make sense for?\n",
    "\n"
   ]
  }
 ],
 "metadata": {
  "kernelspec": {
   "display_name": "R",
   "language": "R",
   "name": "ir"
  },
  "language_info": {
   "codemirror_mode": "r",
   "file_extension": ".r",
   "mimetype": "text/x-r-source",
   "name": "R",
   "pygments_lexer": "r",
   "version": "4.3.3"
  }
 },
 "nbformat": 4,
 "nbformat_minor": 5
}
